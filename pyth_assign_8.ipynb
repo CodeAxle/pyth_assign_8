{
 "cells": [
  {
   "cell_type": "markdown",
   "id": "1ecc6598",
   "metadata": {},
   "source": [
    "# 1."
   ]
  },
  {
   "cell_type": "code",
   "execution_count": 1,
   "id": "ce492719",
   "metadata": {},
   "outputs": [],
   "source": [
    "# No, the Python Standard Library (PSL) is not included with PyInputPlus. PyInputPlus is a separate Python package \n",
    "#  that is not part of the standard library. It provides additional functionality for taking user inputs in a robust and \n",
    "#  controlled manner, such as input validation, retrying, and default values.\n",
    "\n",
    "# we nee to manually install it using pip command as:"
   ]
  },
  {
   "cell_type": "code",
   "execution_count": 2,
   "id": "9e50e76e",
   "metadata": {},
   "outputs": [
    {
     "name": "stdout",
     "output_type": "stream",
     "text": [
      "Requirement already satisfied: PyInputPlus in c:\\users\\anil jambhulkar\\anaconda3\\lib\\site-packages (0.2.12)\n",
      "Requirement already satisfied: pysimplevalidate>=0.2.7 in c:\\users\\anil jambhulkar\\anaconda3\\lib\\site-packages (from PyInputPlus) (0.2.12)\n",
      "Requirement already satisfied: stdiomask>=0.0.3 in c:\\users\\anil jambhulkar\\anaconda3\\lib\\site-packages (from PyInputPlus) (0.0.6)\n",
      "Note: you may need to restart the kernel to use updated packages.\n"
     ]
    }
   ],
   "source": [
    "pip install PyInputPlus"
   ]
  },
  {
   "cell_type": "markdown",
   "id": "1d20d2d4",
   "metadata": {},
   "source": [
    "# 2."
   ]
  },
  {
   "cell_type": "code",
   "execution_count": 3,
   "id": "4798ab26",
   "metadata": {},
   "outputs": [],
   "source": [
    "# It's not common to import PyInputPlus as \"pypi\"; rather, it's more common to import it as \"pyinputplus\" or simply \"pypi\".\n",
    "\n",
    "# Here's why:\n",
    "\n",
    "# a) Readability and Clarity: It's beneficial to import libraries using names that are clear and easy to understand.\n",
    "#     Using \"pyinputplus\" or \"pypi\" directly conveys the purpose of the library being imported.\n",
    "\n",
    "# b) Convention: Python developers generally follow PEP 8 guidelines, which suggest using lowercase letters and underscores \n",
    "#     for module names. This convention enhances code consistency and readability.\n",
    "    \n",
    "# common import commands:\n",
    "#     import pyinputplus as pyip\n",
    "#     import pyinputplus"
   ]
  },
  {
   "cell_type": "markdown",
   "id": "d13e3dec",
   "metadata": {},
   "source": [
    "# 3."
   ]
  },
  {
   "cell_type": "code",
   "execution_count": 4,
   "id": "6286e2a0",
   "metadata": {},
   "outputs": [],
   "source": [
    "# In PyInputPlus, inputInt() and inputFloat() are functions used to specifically request integer and float input from the user, respectively. Here's how you can distinguish between them:\n",
    "\n",
    "# a) Input Type:\n",
    "    \n",
    "# i) inputInt(): This function is used to accept integer input from the user. It validates the input to ensure that\n",
    "#     it is an integer.\n",
    "# ii)minputFloat(): This function is used to accept floating-point (decimal) input from the user. It validates the \n",
    "#     input to ensure that it is a float.\n",
    "\n",
    "# b) Validation:\n",
    "\n",
    "# i) inputInt(): It only accepts whole numbers as input. If the user enters a non-integer value, it will keep prompting\n",
    "#     until a valid integer is entered.\n",
    "# ii) inputFloat(): It accepts both whole numbers and decimal numbers as input. If the user enters a non-numeric value,\n",
    "#     it will keep prompting until a valid float is entered.\n",
    "\n",
    "# c) Return Type:\n",
    "\n",
    "# i) inputInt(): It returns an integer value.\n",
    "# ii) inputFloat(): It returns a float value."
   ]
  },
  {
   "cell_type": "markdown",
   "id": "1ac88a54",
   "metadata": {},
   "source": [
    "# 4."
   ]
  },
  {
   "cell_type": "code",
   "execution_count": 5,
   "id": "dc81093b",
   "metadata": {},
   "outputs": [],
   "source": [
    "# We can ensure that the user enters a whole number between 0 and 99 using PyInputPlus with the inputInt() function\n",
    "#  and the min, max, and limit parameters."
   ]
  },
  {
   "cell_type": "code",
   "execution_count": 6,
   "id": "9c3ef581",
   "metadata": {},
   "outputs": [
    {
     "name": "stdout",
     "output_type": "stream",
     "text": [
      "Enter a number between 0 and 99: 55\n",
      "You entered: 55\n"
     ]
    }
   ],
   "source": [
    "# Example:\n",
    "import pyinputplus as pyip\n",
    "\n",
    "# Getting a whole number input between 0 and 99\n",
    "number = pyip.inputInt(prompt='Enter a number between 0 and 99: ',\n",
    "                        min=0, max=99, limit=2)\n",
    "\n",
    "print(f'You entered: {number}')\n",
    "# number = 55"
   ]
  },
  {
   "cell_type": "markdown",
   "id": "031311a4",
   "metadata": {},
   "source": [
    "# 5."
   ]
  },
  {
   "cell_type": "code",
   "execution_count": 7,
   "id": "ba609ef0",
   "metadata": {},
   "outputs": [],
   "source": [
    "# In PyInputPlus, the allowRegexes and blockRegexes keyword arguments are used to specify regular expressions that match\n",
    "#  input values that are allowed or blocked, respectively.\n",
    "\n",
    "# a) allowRegexes: A list of regular expressions that define the patterns for input values that are allowed.\n",
    "# b) blockRegexes: A list of regular expressions that define the patterns for input values that are blocked or not allowed.\n",
    "    \n",
    "# When using these keyword arguments with PyInputPlus functions like inputStr(), inputChoice(), or others, you can customize\n",
    "#  the allowable or blocked input values based on these regular expressions."
   ]
  },
  {
   "cell_type": "code",
   "execution_count": 8,
   "id": "1f35a107",
   "metadata": {},
   "outputs": [
    {
     "name": "stdout",
     "output_type": "stream",
     "text": [
      "Enter a string: Apple123\n",
      "You entered: Apple123\n"
     ]
    }
   ],
   "source": [
    "# For example, let's say you want to allow input strings that start with \"A\" or \"B\" and block input strings that contain numbers.\n",
    "import pyinputplus as pyip\n",
    "\n",
    "# Allowing input strings that start with \"A\" or \"B\"\n",
    "allow_regexes = [r'^[A-B]']\n",
    "\n",
    "# Blocking input strings that contain numbers\n",
    "block_regexes = [r'\\d+']\n",
    "\n",
    "# Getting an input string based on the specified regex patterns\n",
    "user_input = pyip.inputStr(prompt='Enter a string: ',\n",
    "                           allowRegexes=allow_regexes,\n",
    "                           blockRegexes=block_regexes)\n",
    "\n",
    "print(f'You entered: {user_input}')"
   ]
  },
  {
   "cell_type": "markdown",
   "id": "4e54e56f",
   "metadata": {},
   "source": [
    "# 6."
   ]
  },
  {
   "cell_type": "code",
   "execution_count": 9,
   "id": "fef4eb02",
   "metadata": {},
   "outputs": [],
   "source": [
    "# a) If a blank input is entered three times while using inputStr(limit=3) in PyInputPlus, the behavior will depend on the\n",
    "#  value of the default keyword argument.\n",
    "\n",
    "# b) If default is not specified or is set to None (the default behavior), and the user enters a blank input three times,\n",
    "#  PyInputPlus will raise a pyinputplus.RetryLimitException after the third attempt. This exception indicates that \n",
    "#  the maximum number of retries (defined by the limit parameter) has been reached without receiving valid input."
   ]
  },
  {
   "cell_type": "code",
   "execution_count": 10,
   "id": "d12ce7f6",
   "metadata": {},
   "outputs": [
    {
     "name": "stdout",
     "output_type": "stream",
     "text": [
      "Enter something: \n",
      "Blank values are not allowed.\n",
      "Enter something: \n",
      "Blank values are not allowed.\n",
      "Enter something: \n",
      "Blank values are not allowed.\n",
      "Maximum retries reached. Exiting...\n"
     ]
    }
   ],
   "source": [
    "# Example:\n",
    "import pyinputplus as pyip\n",
    "\n",
    "# Asking the user for input with a limit of 3 attempts\n",
    "try:\n",
    "    user_input = pyip.inputStr(prompt='Enter something: ', limit=3)\n",
    "    print(f'You entered: {user_input}')\n",
    "except pyip.RetryLimitException:\n",
    "    print('Maximum retries reached. Exiting...')"
   ]
  },
  {
   "cell_type": "markdown",
   "id": "8655d3f1",
   "metadata": {},
   "source": [
    "# 7."
   ]
  },
  {
   "cell_type": "code",
   "execution_count": 12,
   "id": "df4efe0f",
   "metadata": {},
   "outputs": [],
   "source": [
    "# The inputStr function from PyInputPlus, when provided with the limit=3 parameter and a default value of 'hello',\n",
    "#  behaves as follows when blank input is entered three times:\n",
    "\n",
    "# a) If the user enters blank input for the first time, the function returns the default value 'hello'.\n",
    "# b) If the user enters blank input for the second time, the function again returns the default value 'hello'.\n",
    "# c) If the user enters blank input for the third time, the function raises a pyinputplus.RetryLimitException because \n",
    "#  the limit of 3 retries has been reached."
   ]
  },
  {
   "cell_type": "code",
   "execution_count": 13,
   "id": "52fb62c3",
   "metadata": {},
   "outputs": [
    {
     "name": "stdout",
     "output_type": "stream",
     "text": [
      "Enter something (max 3 attempts): \n",
      "Blank values are not allowed.\n",
      "Enter something (max 3 attempts): \n",
      "Blank values are not allowed.\n",
      "Enter something (max 3 attempts): \n",
      "Blank values are not allowed.\n",
      "You entered: hello\n"
     ]
    }
   ],
   "source": [
    "#Example:\n",
    "import pyinputplus as pyip\n",
    "\n",
    "# Getting input with limit and default value\n",
    "user_input = pyip.inputStr(prompt='Enter something (max 3 attempts): ',\n",
    "                           limit=3,\n",
    "                           default='hello')\n",
    "\n",
    "print(f'You entered: {user_input}')"
   ]
  },
  {
   "cell_type": "code",
   "execution_count": null,
   "id": "ff89b77f",
   "metadata": {},
   "outputs": [],
   "source": []
  }
 ],
 "metadata": {
  "kernelspec": {
   "display_name": "Python 3 (ipykernel)",
   "language": "python",
   "name": "python3"
  },
  "language_info": {
   "codemirror_mode": {
    "name": "ipython",
    "version": 3
   },
   "file_extension": ".py",
   "mimetype": "text/x-python",
   "name": "python",
   "nbconvert_exporter": "python",
   "pygments_lexer": "ipython3",
   "version": "3.11.5"
  }
 },
 "nbformat": 4,
 "nbformat_minor": 5
}
